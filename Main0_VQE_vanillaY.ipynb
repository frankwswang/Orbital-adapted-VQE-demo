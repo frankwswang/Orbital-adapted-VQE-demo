{
 "cells": [
  {
   "cell_type": "code",
   "execution_count": 9,
   "id": "e27419db-47c2-408e-8f87-dccf70dea62e",
   "metadata": {},
   "outputs": [],
   "source": [
    "import pennylane as qml\n",
    "from pennylane import numpy as np\n",
    "import time"
   ]
  },
  {
   "cell_type": "code",
   "execution_count": 10,
   "id": "8c027b56-bea1-41c1-8456-33b44d14498c",
   "metadata": {},
   "outputs": [],
   "source": [
    "## Include the other required notebook.\n",
    "%run genBeH2geometry.ipynb"
   ]
  },
  {
   "cell_type": "code",
   "execution_count": 11,
   "id": "11faea7d-9df4-4347-a0dc-d2c74ae6b03a",
   "metadata": {},
   "outputs": [],
   "source": [
    "## Define the net charge of BeH2.\n",
    "BeHHcharge = 0"
   ]
  },
  {
   "cell_type": "code",
   "execution_count": 12,
   "id": "9d4dbe8f-e184-4a9d-900d-a8e76232ecf9",
   "metadata": {},
   "outputs": [],
   "source": [
    "BeH2 = qml.qchem.Molecule(BeHHsymbols,BeHHcoords,charge=BeHHcharge, basis_name ='sto-3g')\n",
    "n_electrons = BeH2.n_electrons\n",
    "h_vanilla, n_qubits = qml.qchem.molecular_hamiltonian(\n",
    "    BeH2.symbols, BeH2.coordinates, charge=BeH2.charge, basis=BeH2.basis_name, name=\"BeH2_Vanillia\"\n",
    ")"
   ]
  },
  {
   "cell_type": "code",
   "execution_count": 15,
   "id": "7d67e683-85ea-4b23-8efa-9688fa60bed3",
   "metadata": {
    "tags": []
   },
   "outputs": [],
   "source": [
    "hf_state = qml.qchem.hf_state(n_electrons,n_qubits)\n",
    "singles, doubles = qml.qchem.excitations(n_electrons,n_qubits)"
   ]
  },
  {
   "cell_type": "code",
   "execution_count": 16,
   "id": "0e6056a6-f7c1-429d-8c41-019410fe6334",
   "metadata": {
    "tags": []
   },
   "outputs": [],
   "source": [
    "dev = qml.device(\"default.qubit\",wires = h_vanilla.wires)\n",
    "\n",
    "def circuit_ASD(params,wires):\n",
    "    qml.templates.AllSinglesDoubles(params,wires,hf_state,singles=singles,doubles=doubles)\n",
    "\n",
    "@qml.qnode(dev, diff_method='backprop')\n",
    "def energy_expval_ASD(params):\n",
    "    circuit_ASD(params,h_vanilla.wires)\n",
    "    return qml.expval(h_vanilla)"
   ]
  },
  {
   "cell_type": "code",
   "execution_count": 17,
   "id": "b18d19fc-ec0a-4a54-bf87-794758977ede",
   "metadata": {
    "tags": []
   },
   "outputs": [],
   "source": [
    "def run_vqe_vanilla(energy_expval,params,opt,iterations):\n",
    "    ti = time.time()\n",
    "    energies = []\n",
    "    runtime = []\n",
    "    for i in range(iterations) :\n",
    "        t1 = time.time()\n",
    "        params, energy = opt.step_and_cost(energy_expval,params)\n",
    "        t2 = time.time()\n",
    "        runtime.append(t2-ti)\n",
    "        energies.append(energy)\n",
    "        if (i+1) % 5 == 0:\n",
    "            print(f\"Completed iteration: {i + 1}\")\n",
    "            print(f\"Energy: {energy} Ha\")\n",
    "            print(\"Step Time:\", t2-t1)\n",
    "            print(\"----------------\")\n",
    "    print(f\"Optimized energy: {energy} Ha\")\n",
    "    return energies,runtime"
   ]
  },
  {
   "cell_type": "code",
   "execution_count": 18,
   "id": "24d0b1b9-37ad-4c97-9f95-2f1705950eab",
   "metadata": {
    "scrolled": true,
    "tags": []
   },
   "outputs": [
    {
     "name": "stdout",
     "output_type": "stream",
     "text": [
      "Completed iteration: 5\n",
      "Energy: -15.586670350513144 Ha\n",
      "Step Time: 2.758383274078369\n",
      "----------------\n",
      "Completed iteration: 10\n",
      "Energy: -15.58869846876822 Ha\n",
      "Step Time: 2.810053586959839\n",
      "----------------\n",
      "Completed iteration: 15\n",
      "Energy: -15.590805117262656 Ha\n",
      "Step Time: 2.8547332286834717\n",
      "----------------\n",
      "Completed iteration: 20\n",
      "Energy: -15.593202569345891 Ha\n",
      "Step Time: 2.8348679542541504\n",
      "----------------\n",
      "Completed iteration: 25\n",
      "Energy: -15.593906008423554 Ha\n",
      "Step Time: 2.819547414779663\n",
      "----------------\n",
      "Completed iteration: 30\n",
      "Energy: -15.594068423789587 Ha\n",
      "Step Time: 2.8880412578582764\n",
      "----------------\n",
      "Completed iteration: 35\n",
      "Energy: -15.594489442284758 Ha\n",
      "Step Time: 3.0296542644500732\n",
      "----------------\n",
      "Completed iteration: 40\n",
      "Energy: -15.594547245830762 Ha\n",
      "Step Time: 2.9240918159484863\n",
      "----------------\n",
      "Completed iteration: 45\n",
      "Energy: -15.594646751810654 Ha\n",
      "Step Time: 2.9356517791748047\n",
      "----------------\n",
      "Completed iteration: 50\n",
      "Energy: -15.594727310862105 Ha\n",
      "Step Time: 2.806852102279663\n",
      "----------------\n",
      "Optimized energy: -15.594727310862105 Ha\n"
     ]
    }
   ],
   "source": [
    "params_vanilla = np.zeros(len(doubles) + len(singles), requires_grad=True)\n",
    "adam_opt = qml.AdamOptimizer(stepsize=0.02, beta1=0.9, beta2=0.99, eps=1e-08)\n",
    "energies_vanilla, runtime_vanilla = run_vqe_vanilla(energy_expval_ASD,params_vanilla,adam_opt,50)"
   ]
  }
 ],
 "metadata": {
  "kernelspec": {
   "display_name": "Python 3 (ipykernel)",
   "language": "python",
   "name": "python3"
  },
  "language_info": {
   "codemirror_mode": {
    "name": "ipython",
    "version": 3
   },
   "file_extension": ".py",
   "mimetype": "text/x-python",
   "name": "python",
   "nbconvert_exporter": "python",
   "pygments_lexer": "ipython3",
   "version": "3.9.13"
  }
 },
 "nbformat": 4,
 "nbformat_minor": 5
}
