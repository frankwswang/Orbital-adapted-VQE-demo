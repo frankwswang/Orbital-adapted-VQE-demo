{
 "cells": [
  {
   "cell_type": "code",
   "execution_count": 1,
   "id": "e27419db-47c2-408e-8f87-dccf70dea62e",
   "metadata": {},
   "outputs": [],
   "source": [
    "import pennylane as qml\n",
    "from pennylane import numpy as np\n",
    "import time"
   ]
  },
  {
   "cell_type": "code",
   "execution_count": 2,
   "id": "2d1ec61b-9486-473e-a726-47e01198beff",
   "metadata": {},
   "outputs": [],
   "source": [
    "## Include other required notebooks.\n",
    "%run genBeH2geometry.ipynb\n",
    "%run readBasis.ipynb"
   ]
  },
  {
   "cell_type": "code",
   "execution_count": 3,
   "id": "184528b6-2d03-47fc-a896-e1868f620f30",
   "metadata": {},
   "outputs": [],
   "source": [
    "## Define the net charge of BeH2.\n",
    "BeHHcharge = 0"
   ]
  },
  {
   "cell_type": "code",
   "execution_count": 4,
   "id": "76c446f9-d672-4096-ba0f-656926a3b72d",
   "metadata": {
    "tags": []
   },
   "outputs": [],
   "source": [
    "## Function for generating the eletronic Hamiltonian and relevant information.\n",
    "def genBeH2(genBasisFunc, name=\"BeH2\", grouping_type=\"qwc\"):\n",
    "    bsInfo = genBasisFunc()\n",
    "    BeH2 = qml.qchem.Molecule(BeHHsymbols, BeHHcoords, charge=BeHHcharge, basis_name =bsInfo[0])\n",
    "    n_electrons = BeH2.n_electrons\n",
    "    for i,alpha in enumerate(bsInfo[1]):\n",
    "        BeH2.alpha[i] = alpha\n",
    "    for i,coeff in enumerate(bsInfo[2]):\n",
    "        BeH2.coeff[i] = coeff\n",
    "    h_elec, n_qubits = qml.qchem.molecular_hamiltonian(BeH2.symbols, BeH2.coordinates, \n",
    "        charge=BeH2.charge, basis=BeH2.basis_name, alpha=BeH2.alpha, coeff=BeH2.coeff, \n",
    "        name=name, grouping_type=grouping_type\n",
    "    )\n",
    "    return h_elec, (n_qubits, n_electrons)"
   ]
  },
  {
   "cell_type": "code",
   "execution_count": 5,
   "id": "1c2c6c61-453e-4de1-a90e-9069e3cbe961",
   "metadata": {},
   "outputs": [],
   "source": [
    "h_quiqbox, (n_qubits, n_electrons) = genBeH2(genSTO3Gopt, name=\"BeH2_quiqbox\", grouping_type=\"qwc\")"
   ]
  },
  {
   "cell_type": "code",
   "execution_count": 6,
   "id": "829d32b4-90ab-424d-bc3e-81f6288fa8e3",
   "metadata": {
    "tags": []
   },
   "outputs": [
    {
     "name": "stderr",
     "output_type": "stream",
     "text": [
      "/home/frankwswang/anaconda3/lib/python3.9/site-packages/pennylane/operation.py:1830: UserWarning: Tensor object acts on overlapping wires; in some PennyLane functions this will lead to undefined behaviour\n",
      "  warnings.warn(\n",
      "/home/frankwswang/anaconda3/lib/python3.9/site-packages/pennylane/operation.py:1993: UserWarning: Tensor object acts on overlapping wires; in some PennyLane functions this will lead to undefined behaviour\n",
      "  warnings.warn(\n"
     ]
    }
   ],
   "source": [
    "## Tapering hamiltonian, Hartree-Fock state, and single/double excitation operators.\n",
    "## This will take 5 - 10 minutes to run.\n",
    "generators = qml.symmetry_generators(h_quiqbox)\n",
    "paulixops = qml.paulix_ops(generators, n_qubits)\n",
    "paulix_sector = qml.qchem.optimal_sector(h_quiqbox, generators, n_electrons)\n",
    "h_tapered = qml.taper(h_quiqbox, generators, paulixops, paulix_sector)\n",
    "\n",
    "state_tapered = qml.qchem.taper_hf(generators, paulixops, paulix_sector,\n",
    "                                   num_electrons=n_electrons,\n",
    "                                   num_wires=len(h_quiqbox.wires))\n",
    "\n",
    "singles, doubles = qml.qchem.excitations(n_electrons, len(h_quiqbox.wires))\n",
    "tapered_doubles = [\n",
    "    qml.taper_operation(qml.DoubleExcitation, generators, paulixops, paulix_sector,\n",
    "                        wire_order=h_quiqbox.wires, op_wires=double) for double in doubles\n",
    "]\n",
    "tapered_singles = [\n",
    "    qml.taper_operation(qml.SingleExcitation, generators, paulixops, paulix_sector,\n",
    "                        wire_order=h_quiqbox.wires, op_wires=single) for single in singles\n",
    "]"
   ]
  },
  {
   "cell_type": "code",
   "execution_count": 7,
   "id": "5df4325e-2218-4cc5-896d-72b7688e137d",
   "metadata": {
    "tags": []
   },
   "outputs": [
    {
     "name": "stdout",
     "output_type": "stream",
     "text": [
      "Number of qubits original: 14\n",
      "Number of qubits after tapering: 9\n"
     ]
    }
   ],
   "source": [
    "print('Number of qubits original:', len(h_quiqbox.wires))\n",
    "print('Number of qubits after tapering:', len(h_tapered.wires))"
   ]
  },
  {
   "cell_type": "code",
   "execution_count": 8,
   "id": "e140bc75-11fb-423f-8626-aa663bdfc99b",
   "metadata": {
    "tags": []
   },
   "outputs": [],
   "source": [
    "## Takes in list of excitation functions.\n",
    "def adapt_circuit_1(params,excitations):\n",
    "    qml.BasisState(state_tapered, wires=h_tapered.wires)\n",
    "    for idx, tapered_op in enumerate(excitations):\n",
    "        tapered_op(params[idx])\n",
    "    return qml.expval(h_tapered)"
   ]
  },
  {
   "cell_type": "code",
   "execution_count": 9,
   "id": "794cc13c-2ac9-4b57-b003-175f7fdfb10a",
   "metadata": {
    "tags": []
   },
   "outputs": [
    {
     "name": "stdout",
     "output_type": "stream",
     "text": [
      "Original Number of double excitation gates: 180\n",
      "Number of double excitation gates after filtering: 32\n"
     ]
    }
   ],
   "source": [
    "## Dropping double excitation gates that have gradient close to zero .\n",
    "## Only diff_method = 'backprop' seems to work with qubit tapering.\n",
    "\n",
    "dev = qml.device(\"default.qubit\", wires=h_tapered.wires)\n",
    "\n",
    "cost_fn_doubles = qml.QNode(adapt_circuit_1,dev, diff_method='backprop')\n",
    "circuit_gradient_doubles = qml.grad(cost_fn_doubles,argnum=0)\n",
    "\n",
    "params_doubles = [0.0]*len(tapered_doubles)\n",
    "grads_doubles = circuit_gradient_doubles(params_doubles,excitations=tapered_doubles)\n",
    "\n",
    "# selects double excitation gates with gradient larger than 1.0e-5\n",
    "tapered_doubles_select = [tapered_doubles[i] for i in range(len(tapered_doubles)) if abs(grads_doubles[i]) > 1.0e-5]\n",
    "\n",
    "print('Original Number of double excitation gates:', len(tapered_doubles))\n",
    "print('Number of double excitation gates after filtering:', len(tapered_doubles_select))"
   ]
  },
  {
   "cell_type": "code",
   "execution_count": 10,
   "id": "01b8d167-812e-4eac-b71a-be21427a0e4a",
   "metadata": {
    "tags": []
   },
   "outputs": [],
   "source": [
    "## Optimizing parameters of double excitation gates\n",
    "## Could set convergence criteria if intended\n",
    "opt = qml.GradientDescentOptimizer(stepsize=0.1)\n",
    "params_doubles = np.zeros(len(tapered_doubles_select), requires_grad=True)\n",
    "for n in range(30):\n",
    "    params_doubles = opt.step(cost_fn_doubles,params_doubles,excitations=tapered_doubles_select)"
   ]
  },
  {
   "cell_type": "code",
   "execution_count": 11,
   "id": "1f057fc3-2691-4cb0-8ad9-a26814d61fc4",
   "metadata": {
    "tags": []
   },
   "outputs": [],
   "source": [
    "## Circuit for fixing parameters of double excition gates and optimizing parameters of single excitation gates.\n",
    "def adapt_circuit_2(params,excitations,gates_select,params_select):\n",
    "    qml.BasisState(state_tapered, wires=h_tapered.wires)\n",
    "    \n",
    "    for idx, tapered_op in enumerate(gates_select):\n",
    "        tapered_op(params_select[idx])\n",
    "        \n",
    "    for idx, tapered_op in enumerate(excitations):\n",
    "        tapered_op(params[idx])\n",
    "        \n",
    "    return qml.expval(h_tapered)"
   ]
  },
  {
   "cell_type": "code",
   "execution_count": 12,
   "id": "1f8c8576-9b1a-4355-84a0-c97ff9f54d18",
   "metadata": {
    "tags": []
   },
   "outputs": [
    {
     "name": "stdout",
     "output_type": "stream",
     "text": [
      "Original Number of single excitation gates: 24\n",
      "Number of single excitation gates after filtering: 6\n"
     ]
    }
   ],
   "source": [
    "## Dropping single excitation gates with gradient close to zero.\n",
    "\n",
    "cost_fn_singles = qml.QNode(adapt_circuit_2,dev, diff_method='backprop')\n",
    "circuit_gradient_singles = qml.grad(cost_fn_singles,argnum=0)\n",
    "params_singles = [0.0]*len(tapered_singles)\n",
    "\n",
    "grads_singles = circuit_gradient_singles(params_singles, \n",
    "    excitations=tapered_singles, gates_select=tapered_doubles_select, params_select=params_doubles\n",
    ")\n",
    "tapered_singles_select = [tapered_singles[i] for i in range(len(tapered_singles)) if abs(grads_singles[i]) > 1.0e-5]\n",
    "\n",
    "print('Original Number of single excitation gates:', len(tapered_singles))\n",
    "print('Number of single excitation gates after filtering:', len(tapered_singles_select))"
   ]
  },
  {
   "cell_type": "code",
   "execution_count": 13,
   "id": "67567910-7d07-4ac1-b3b4-05e77aa05778",
   "metadata": {
    "tags": []
   },
   "outputs": [],
   "source": [
    "## Final optimization of circuit using only selected single and double excitation gates.\n",
    "cost_fn_final = qml.QNode(adapt_circuit_1,dev)\n",
    "params_final = np.zeros(len(tapered_doubles_select + tapered_singles_select), requires_grad=True)\n",
    "gates_select = tapered_doubles_select + tapered_singles_select"
   ]
  },
  {
   "cell_type": "code",
   "execution_count": 14,
   "id": "cedcf5d7-610d-475e-b5f0-177c111f715a",
   "metadata": {
    "tags": []
   },
   "outputs": [],
   "source": [
    "## Function used to run final optimization.\n",
    "## Excitations should be list of excitation functions used in final circuit.\n",
    "\n",
    "def run_adapt_vqe(cost_fn,params,opt,iterations,excitations):\n",
    "    energies = []\n",
    "    total_run_time = []\n",
    "    ti = time.time()\n",
    "    for i in range(iterations):\n",
    "        t1 = time.time()\n",
    "        params, energy = opt.step_and_cost(cost_fn,params,excitations=excitations)\n",
    "        t2 = time.time()\n",
    "        energies.append(energy)\n",
    "        total_run_time.append(t2-ti)\n",
    "        if (i+1) % 5 == 0:\n",
    "            print(f\"Completed iteration {i + 1}\")\n",
    "            print(f\"Energy: {energy} Ha\")\n",
    "            print(\"Step Time:\", t2-t1)\n",
    "            print(\"----------------\")\n",
    "    print(f\"Optimized energy: {energy} Ha\")\n",
    "    \n",
    "    return energies, total_run_time"
   ]
  },
  {
   "cell_type": "code",
   "execution_count": 15,
   "id": "22fcdf77-37e0-4c74-835a-d61388a6d75e",
   "metadata": {
    "scrolled": true,
    "tags": []
   },
   "outputs": [
    {
     "name": "stdout",
     "output_type": "stream",
     "text": [
      "Completed iteration 5\n",
      "Energy: -15.61493490176238 Ha\n",
      "Step Time: 1.3174209594726562\n",
      "----------------\n",
      "Completed iteration 10\n",
      "Energy: -15.615748229308814 Ha\n",
      "Step Time: 1.2019178867340088\n",
      "----------------\n",
      "Completed iteration 15\n",
      "Energy: -15.618786788298982 Ha\n",
      "Step Time: 1.2787179946899414\n",
      "----------------\n",
      "Completed iteration 20\n",
      "Energy: -15.620347361034842 Ha\n",
      "Step Time: 1.1891891956329346\n",
      "----------------\n",
      "Completed iteration 25\n",
      "Energy: -15.620786112940404 Ha\n",
      "Step Time: 1.1589055061340332\n",
      "----------------\n",
      "Completed iteration 30\n",
      "Energy: -15.621086038212393 Ha\n",
      "Step Time: 1.188359022140503\n",
      "----------------\n",
      "Completed iteration 35\n",
      "Energy: -15.621314048611524 Ha\n",
      "Step Time: 1.3608789443969727\n",
      "----------------\n",
      "Completed iteration 40\n",
      "Energy: -15.62133915362446 Ha\n",
      "Step Time: 1.1808674335479736\n",
      "----------------\n",
      "Completed iteration 45\n",
      "Energy: -15.621439984439746 Ha\n",
      "Step Time: 1.3543667793273926\n",
      "----------------\n",
      "Completed iteration 50\n",
      "Energy: -15.621475490032628 Ha\n",
      "Step Time: 1.319906234741211\n",
      "----------------\n",
      "Optimized energy: -15.621475490032628 Ha\n"
     ]
    }
   ],
   "source": [
    "## For excitations we'll use our singles and doubles selected gates, i.e., `gates_select`.\n",
    "maxStep = 50\n",
    "adamStep = 0.02\n",
    "opt_adam = qml.AdamOptimizer(stepsize=adamStep, beta1=0.9, beta2=0.99, eps=1e-08)\n",
    "adapt_energies, adapt_runtime = run_adapt_vqe(cost_fn_final, params_final, opt_adam, maxStep, excitations=gates_select)"
   ]
  },
  {
   "cell_type": "code",
   "execution_count": 16,
   "id": "f8d79702-4907-44a7-bf61-cfebe662e67c",
   "metadata": {
    "tags": []
   },
   "outputs": [
    {
     "data": {
      "image/png": "[encoded data removed]",
      "text/plain": [
       "<Figure size 600x400 with 1 Axes>"
      ]
     },
     "metadata": {},
     "output_type": "display_data"
    }
   ],
   "source": [
    "## Plotting the VQE iterations.\n",
    "import matplotlib.pyplot as plt\n",
    "plt.figure(figsize=(6,4))\n",
    "plt.plot(np.arange(1,50+1),adapt_energies)\n",
    "plt.xlabel(\"Steps\")\n",
    "plt.ylabel(\"Energy (Ha)\")\n",
    "plt.title('Adapt VQE with Tapering and Optimized Basis Set Parameters for BeH₂')\n",
    "plt.tight_layout()"
   ]
  }
 ],
 "metadata": {
  "kernelspec": {
   "display_name": "base",
   "language": "python",
   "name": "python3"
  },
  "language_info": {
   "codemirror_mode": {
    "name": "ipython",
    "version": 3
   },
   "file_extension": ".py",
   "mimetype": "text/x-python",
   "name": "python",
   "nbconvert_exporter": "python",
   "pygments_lexer": "ipython3",
   "version": "3.9.13"
  },
  "vscode": {
   "interpreter": {
    "hash": "0cee31b4d57dce638b35a1ee4d1e1dc32b51d9338033ba13f511e689c3e06c9d"
   }
  }
 },
 "nbformat": 4,
 "nbformat_minor": 5
}
