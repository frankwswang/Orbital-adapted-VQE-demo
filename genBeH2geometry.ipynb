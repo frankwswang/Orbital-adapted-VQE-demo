{
 "cells": [
  {
   "cell_type": "code",
   "execution_count": 1,
   "id": "c48eb64e-6168-432c-a65d-ae1ad3757030",
   "metadata": {},
   "outputs": [],
   "source": [
    "import math\n",
    "from pennylane import numpy as np"
   ]
  },
  {
   "cell_type": "code",
   "execution_count": 2,
   "id": "ec472eb6-3263-4d60-bf20-6c356d75f879",
   "metadata": {},
   "outputs": [],
   "source": [
    "## Define the geometry of BeH2, based on the experimental result from https://cccbdb.nist.gov/exp2x.asp?casno=7787522&charge=0.\n",
    "angHBeH = math.pi # in radian\n",
    "lenBeH = 1.3264 # in Å"
   ]
  },
  {
   "cell_type": "code",
   "execution_count": 3,
   "id": "dee5407a-434f-4bfb-a8c3-7ab2db8b0342",
   "metadata": {},
   "outputs": [],
   "source": [
    "angToBr = 1 / 0.529177210903"
   ]
  },
  {
   "cell_type": "code",
   "execution_count": 4,
   "id": "51fdc912-166e-4a45-8fd8-7ac8d64b66f0",
   "metadata": {},
   "outputs": [],
   "source": [
    "## Intermediate values useful for other notebooks.\n",
    "lenInBr = lenBeH*angToBr\n",
    "cx = lenInBr*math.sin(0.5*angHBeH)\n",
    "cy = lenInBr*(math.cos(0.5*angHBeH) + 1 - 1)\n",
    "lenHH = 2*cx"
   ]
  },
  {
   "cell_type": "code",
   "execution_count": 5,
   "id": "2d53dcbb-c4dd-43b5-b568-149222ec7777",
   "metadata": {},
   "outputs": [],
   "source": [
    "## Symbols and coordinates of the nuclei in BeH2.\n",
    "BeHHsymbols = [\"Be\", \"H\", \"H\"]\n",
    "BeHHcoords = np.array([[0., cy, 0.], [-cx, 0., 0.], [cx, 0., 0.]])"
   ]
  }
 ],
 "metadata": {
  "kernelspec": {
   "display_name": "Python 3 (ipykernel)",
   "language": "python",
   "name": "python3"
  },
  "language_info": {
   "codemirror_mode": {
    "name": "ipython",
    "version": 3
   },
   "file_extension": ".py",
   "mimetype": "text/x-python",
   "name": "python",
   "nbconvert_exporter": "python",
   "pygments_lexer": "ipython3",
   "version": "3.9.13"
  }
 },
 "nbformat": 4,
 "nbformat_minor": 5
}
