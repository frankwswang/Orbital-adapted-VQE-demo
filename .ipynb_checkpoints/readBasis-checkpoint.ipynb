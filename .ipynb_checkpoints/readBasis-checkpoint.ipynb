{
 "cells": [
  {
   "cell_type": "code",
   "execution_count": 31,
   "id": "c33f53c3-4d46-4984-8320-0002644917e1",
   "metadata": {},
   "outputs": [],
   "source": [
    "import h5py\n",
    "from pennylane import numpy as np"
   ]
  },
  {
   "cell_type": "code",
   "execution_count": 32,
   "id": "18f52330-c9d6-43f6-9903-a0f57f64b97a",
   "metadata": {},
   "outputs": [],
   "source": [
    "## Function that extracts the exponent and contreaction coeeficients from the pre-saved basis set data file.\n",
    "def readGaussCoeffs(fName):\n",
    "    f = h5py.File('STO-3G_opt.h5G','r')\n",
    "    alphas = []\n",
    "    coeffs = []\n",
    "    for i in f.keys():\n",
    "        alphas.append(np.array(f[i][\"exp\"], requires_grad=False))\n",
    "        coeffs.append(np.array(f[i][\"con\"], requires_grad=False))\n",
    "    return alphas, coeffs"
   ]
  },
  {
   "cell_type": "code",
   "execution_count": 34,
   "id": "15c9968f-11a5-4a71-85f5-619e3a7f9a97",
   "metadata": {},
   "outputs": [],
   "source": [
    "## Wrapper function that returns the optimized basis set information.\n",
    "def genSTO3Gopt(fName=\"STO-3G_opt.h5G\"):\n",
    "    res = readGaussCoeffs(fName)\n",
    "    return [\"sto-3g\", res[0], res[1]]"
   ]
  }
 ],
 "metadata": {
  "kernelspec": {
   "display_name": "Python 3 (ipykernel)",
   "language": "python",
   "name": "python3"
  },
  "language_info": {
   "codemirror_mode": {
    "name": "ipython",
    "version": 3
   },
   "file_extension": ".py",
   "mimetype": "text/x-python",
   "name": "python",
   "nbconvert_exporter": "python",
   "pygments_lexer": "ipython3",
   "version": "3.9.13"
  }
 },
 "nbformat": 4,
 "nbformat_minor": 5
}
