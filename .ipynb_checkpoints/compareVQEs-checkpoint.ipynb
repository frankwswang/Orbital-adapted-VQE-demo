{
 "cells": [
  {
   "cell_type": "code",
   "execution_count": 1,
   "id": "4fce57fe-1a1c-4532-b115-19ff9692b5e8",
   "metadata": {},
   "outputs": [],
   "source": [
    "import matplotlib.pyplot as plt"
   ]
  },
  {
   "cell_type": "code",
   "execution_count": null,
   "id": "8afed550-d8e4-4124-878a-c656a8d6ea4e",
   "metadata": {},
   "outputs": [
    {
     "name": "stdout",
     "output_type": "stream",
     "text": [
      "<Info of vanilla VQE>\n",
      "Number of qubits needed: 14\n",
      "Number of Pauli strings: 666\n"
     ]
    }
   ],
   "source": [
    "## Run three versions of VQEs.\n",
    "%run Main0_VQE_vanillaY.ipynb            # Vanilla VQE (VQE-V)\n",
    "%run Main1_VQE_adaptY_taperingY.ipynb    # Adapt-VQE with qubit tapering (VQE-A-T)\n",
    "%run Main2_VQE_adaptY_activeSpaceY.ipynb # Adapt-VQE with selected active space (VQE-A-S)"
   ]
  },
  {
   "cell_type": "code",
   "execution_count": null,
   "id": "de4efa64-69b9-4410-9717-341d85f198d4",
   "metadata": {},
   "outputs": [],
   "source": [
    "## Plotting the VQE energy w.r.t iterations.\n",
    "plt.figure(figsize=(6, 4))\n",
    "plt.plot(np.arange(1,50+1), energies_vanilla, label=\"VQE-V\")\n",
    "plt.plot(np.arange(1,50+1), adapt_energies_tapered, label=\"VQE-A-T\")\n",
    "plt.plot(np.arange(1,50+1), adapt_energies_active, label=\"VQE-A-S\")\n",
    "plt.xlabel(\"Steps\")\n",
    "plt.ylabel(\"Energy (Ha)\")\n",
    "plt.title('Gournd-state energy of BeH₂ w.r.t VQE iteractions')\n",
    "plt.legend()\n",
    "plt.tight_layout()\n",
    "plt.savefig(\"./plots/energy.png\")"
   ]
  },
  {
   "cell_type": "code",
   "execution_count": null,
   "id": "c081a555-5ce5-4ceb-9955-ea1bb0997e85",
   "metadata": {},
   "outputs": [],
   "source": [
    "## Plotting the VQE runtime w.r.t iterations.\n",
    "import matplotlib.pyplot as plt\n",
    "plt.figure(figsize=(6, 4))\n",
    "plt.plot(np.arange(1,50+1), runtime_vanilla, label=\"VQE-V\")\n",
    "plt.plot(np.arange(1,50+1), adapt_runtime_tapered, label=\"VQE-A-T\")\n",
    "plt.plot(np.arange(1,50+1), adapt_runtime_active, label=\"VQE-A-S\")\n",
    "plt.xlabel(\"Steps\")\n",
    "plt.ylabel(\"Runtime (sec)\")\n",
    "plt.title('Total VQE runtime w.r.t VQE iteractions')\n",
    "plt.legend()\n",
    "plt.tight_layout()\n",
    "plt.savefig(\"./plots/runtime.png\")"
   ]
  },
  {
   "cell_type": "code",
   "execution_count": null,
   "id": "55ee8e9e-7ead-4a08-8b32-86e42b4bdd8d",
   "metadata": {},
   "outputs": [],
   "source": [
    "E0_VQE_V = energies_vanilla[49]\n",
    "E0_VQE_A_T = adapt_energies_tapered[49]\n",
    "E0_VQE_A_S = adapt_energies_active[49]\n",
    "print(\"E0_VQE_V = \", E0_VQE_V)\n",
    "print(\"E0_VQE_A_T = \", E0_VQE_A_T)\n",
    "print(\"E0_VQE_A_S = \", E0_VQE_A_S)"
   ]
  },
  {
   "cell_type": "code",
   "execution_count": null,
   "id": "03814677-a543-4509-91a5-f268bd295047",
   "metadata": {},
   "outputs": [],
   "source": [
    "t_VQE_V = runtime_vanilla[49]\n",
    "t_VQE_A_T = adapt_runtime_tapered[49]\n",
    "t_VQE_A_S = adapt_runtime_active[49]\n",
    "print(\"t_VQE_V = \", t_VQE_V)\n",
    "print(\"t_VQE_A_T = \", t_VQE_A_T)\n",
    "print(\"t_VQE_A_S = \", t_VQE_A_S)"
   ]
  }
 ],
 "metadata": {
  "kernelspec": {
   "display_name": "Python 3 (ipykernel)",
   "language": "python",
   "name": "python3"
  },
  "language_info": {
   "codemirror_mode": {
    "name": "ipython",
    "version": 3
   },
   "file_extension": ".py",
   "mimetype": "text/x-python",
   "name": "python",
   "nbconvert_exporter": "python",
   "pygments_lexer": "ipython3",
   "version": "3.9.13"
  },
  "vscode": {
   "interpreter": {
    "hash": "916dbcbb3f70747c44a77c7bcd40155683ae19c65e1c03b4aa3499c5328201f1"
   }
  }
 },
 "nbformat": 4,
 "nbformat_minor": 5
}
