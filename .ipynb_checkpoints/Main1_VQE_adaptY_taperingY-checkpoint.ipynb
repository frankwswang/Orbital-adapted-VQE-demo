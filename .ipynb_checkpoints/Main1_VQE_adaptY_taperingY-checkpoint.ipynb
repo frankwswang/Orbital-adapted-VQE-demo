{
 "cells": [
  {
   "cell_type": "code",
   "execution_count": 1,
   "id": "e27419db-47c2-408e-8f87-dccf70dea62e",
   "metadata": {},
   "outputs": [],
   "source": [
    "import pennylane as qml\n",
    "import copy"
   ]
  },
  {
   "cell_type": "code",
   "execution_count": 2,
   "id": "2d1ec61b-9486-473e-a726-47e01198beff",
   "metadata": {},
   "outputs": [],
   "source": [
    "## Include other required notebooks.\n",
    "%run prepareVQE.ipynb"
   ]
  },
  {
   "cell_type": "code",
   "execution_count": 3,
   "id": "184528b6-2d03-47fc-a896-e1868f620f30",
   "metadata": {},
   "outputs": [],
   "source": [
    "## Define the net charge of BeH2.\n",
    "BeHHcharge = 0"
   ]
  },
  {
   "cell_type": "code",
   "execution_count": 4,
   "id": "1c2c6c61-453e-4de1-a90e-9069e3cbe961",
   "metadata": {},
   "outputs": [],
   "source": [
    "h_quiqbox, (n_qubits, n_electrons) = genBeH2(genSTO3Gopt, name=\"BeH2_quiqbox\", grouping_type=None)"
   ]
  },
  {
   "cell_type": "code",
   "execution_count": null,
   "id": "829d32b4-90ab-424d-bc3e-81f6288fa8e3",
   "metadata": {
    "tags": []
   },
   "outputs": [
    {
     "name": "stderr",
     "output_type": "stream",
     "text": [
      "/home/frankwswang/anaconda3/lib/python3.9/site-packages/pennylane/operation.py:1830: UserWarning: Tensor object acts on overlapping wires; in some PennyLane functions this will lead to undefined behaviour\n",
      "  warnings.warn(\n",
      "/home/frankwswang/anaconda3/lib/python3.9/site-packages/pennylane/operation.py:1993: UserWarning: Tensor object acts on overlapping wires; in some PennyLane functions this will lead to undefined behaviour\n",
      "  warnings.warn(\n"
     ]
    }
   ],
   "source": [
    "## Tapering hamiltonian, Hartree-Fock state, and single/double excitation operators.\n",
    "## This will take 5 - 10 minutes to run.\n",
    "generators = qml.symmetry_generators(h_quiqbox)\n",
    "paulixops = qml.paulix_ops(generators, n_qubits)\n",
    "paulix_sector = qml.qchem.optimal_sector(h_quiqbox, generators, n_electrons)\n",
    "h_tapered = qml.taper(h_quiqbox, generators, paulixops, paulix_sector)\n",
    "\n",
    "state_tapered = qml.qchem.taper_hf(generators, paulixops, paulix_sector,\n",
    "                                   num_electrons=n_electrons,\n",
    "                                   num_wires=len(h_quiqbox.wires))\n",
    "\n",
    "singles, doubles = qml.qchem.excitations(n_electrons, len(h_quiqbox.wires))\n",
    "doubles_tapered = [\n",
    "    qml.taper_operation(qml.DoubleExcitation, generators, paulixops, paulix_sector,\n",
    "                        wire_order=h_quiqbox.wires, op_wires=double) for double in doubles\n",
    "]\n",
    "singles_tapered = [\n",
    "    qml.taper_operation(qml.SingleExcitation, generators, paulixops, paulix_sector,\n",
    "                        wire_order=h_quiqbox.wires, op_wires=single) for single in singles\n",
    "]"
   ]
  },
  {
   "cell_type": "code",
   "execution_count": null,
   "id": "5df4325e-2218-4cc5-896d-72b7688e137d",
   "metadata": {
    "tags": []
   },
   "outputs": [],
   "source": [
    "print(\"<Info of Adapt-VQE with qubit tapering>\")\n",
    "print('Number of qubits needed original:', len(h_quiqbox.wires))\n",
    "print('Number of qubits needed after tapering:', len(h_tapered.wires))"
   ]
  },
  {
   "cell_type": "code",
   "execution_count": null,
   "id": "a106d141-3df4-455a-bf6f-93b9bc7446a0",
   "metadata": {},
   "outputs": [],
   "source": [
    "print('Number of Pauli strings before tapering:', len(h_quiqbox.ops))\n",
    "print('Number of Pauli strings after tapering:', len(h_tapered.ops))"
   ]
  },
  {
   "cell_type": "code",
   "execution_count": null,
   "id": "e140bc75-11fb-423f-8626-aa663bdfc99b",
   "metadata": {
    "tags": []
   },
   "outputs": [],
   "source": [
    "def adapt_circuit_1_tapered(params, excitations):\n",
    "    qml.BasisState(state_tapered, wires=h_tapered.wires)\n",
    "    for idx, tapered_op in enumerate(excitations):\n",
    "        tapered_op(params[idx])\n",
    "    return qml.expval(h_tapered)"
   ]
  },
  {
   "cell_type": "code",
   "execution_count": null,
   "id": "1f057fc3-2691-4cb0-8ad9-a26814d61fc4",
   "metadata": {
    "tags": []
   },
   "outputs": [],
   "source": [
    "## Circuit for fixing parameters of double excition gates and optimizing parameters of single excitation gates.\n",
    "def adapt_circuit_2_tapered(params, excitations, gates_select, params_select):\n",
    "    qml.BasisState(state_tapered, wires=h_tapered.wires)\n",
    "    \n",
    "    for idx, tapered_op in enumerate(gates_select):\n",
    "        tapered_op(params_select[idx])\n",
    "        \n",
    "    for idx, tapered_op in enumerate(excitations):\n",
    "        tapered_op(params[idx])\n",
    "        \n",
    "    return qml.expval(h_tapered)"
   ]
  },
  {
   "cell_type": "code",
   "execution_count": null,
   "id": "437cf60c-ee34-4317-ba80-7552a0a43ce2",
   "metadata": {},
   "outputs": [],
   "source": [
    "## Construct Adapt-VQE.\n",
    "dev = qml.device(\"default.qubit\", wires=h_tapered.wires)\n",
    "diff_method = 'backprop'\n",
    "cost_fn_final_tapered, params_final_tapered, gates_select_tapered = constructAdaptVQE(dev, \n",
    "    diff_method, adapt_circuit_1_tapered, adapt_circuit_2_tapered, doubles_tapered, singles_tapered\n",
    ")"
   ]
  },
  {
   "cell_type": "code",
   "execution_count": null,
   "id": "22fcdf77-37e0-4c74-835a-d61388a6d75e",
   "metadata": {
    "scrolled": true,
    "tags": []
   },
   "outputs": [],
   "source": [
    "## Run the constructed VQE.\n",
    "## For excitations we'll use our singles and doubles selected gates, i.e., `gates_select`.\n",
    "maxStep = 50\n",
    "adamStep = 0.02\n",
    "opt_adam = qml.AdamOptimizer(stepsize=adamStep, beta1=0.9, beta2=0.99, eps=1e-08)\n",
    "adapt_energies_tapered, adapt_runtime_tapered = run_adapt_vqe(\n",
    "    cost_fn_final_tapered, params_final_tapered, opt_adam, maxStep, excitations=gates_select_tapered\n",
    ")"
   ]
  }
 ],
 "metadata": {
  "kernelspec": {
   "display_name": "Python 3 (ipykernel)",
   "language": "python",
   "name": "python3"
  },
  "language_info": {
   "codemirror_mode": {
    "name": "ipython",
    "version": 3
   },
   "file_extension": ".py",
   "mimetype": "text/x-python",
   "name": "python",
   "nbconvert_exporter": "python",
   "pygments_lexer": "ipython3",
   "version": "3.9.13"
  },
  "vscode": {
   "interpreter": {
    "hash": "0cee31b4d57dce638b35a1ee4d1e1dc32b51d9338033ba13f511e689c3e06c9d"
   }
  }
 },
 "nbformat": 4,
 "nbformat_minor": 5
}
