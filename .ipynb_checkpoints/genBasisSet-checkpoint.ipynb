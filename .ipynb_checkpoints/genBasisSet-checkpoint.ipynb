{
 "cells": [
  {
   "cell_type": "code",
   "execution_count": 1,
   "id": "1e6ffca3-0108-441c-a01b-d9c2aaf3dcef",
   "metadata": {},
   "outputs": [
    {
     "name": "stdout",
     "output_type": "stream",
     "text": [
      "Requirement already satisfied: juliacall in /home/frankwswang/anaconda3/lib/python3.9/site-packages (0.9.11)\n",
      "Requirement already satisfied: juliapkg~=0.1.8 in /home/frankwswang/anaconda3/lib/python3.9/site-packages (from juliacall) (0.1.9)\n",
      "Requirement already satisfied: semantic-version~=2.9 in /home/frankwswang/anaconda3/lib/python3.9/site-packages (from juliapkg~=0.1.8->juliacall) (2.10.0)\n"
     ]
    }
   ],
   "source": [
    "## Install `juliacall` to use julia packages.\n",
    "import sys\n",
    "!{sys.executable} -m pip install juliacall"
   ]
  },
  {
   "cell_type": "code",
   "execution_count": 2,
   "id": "7de63e17-f671-4a62-9023-7e544c4e3d82",
   "metadata": {},
   "outputs": [],
   "source": [
    "## Install necessary julia packages.\n",
    "import juliapkg;\n",
    "juliapkg.add(\"Quiqbox\", \"7cb8c394-fae1-4ab9-92f2-30189d7746cd\");\n",
    "juliapkg.add(\"Optim\", \"429524aa-4258-5aef-a3af-852621145aeb\");\n",
    "juliapkg.add(\"HDF5\", \"f67ccb44-e63f-5c2f-98bd-6dc0ccc4ba2f\");"
   ]
  },
  {
   "cell_type": "code",
   "execution_count": 3,
   "id": "09dbc5c7-3b02-4490-88a4-d00616d9ba05",
   "metadata": {},
   "outputs": [
    {
     "name": "stdout",
     "output_type": "stream",
     "text": [
      "[juliapkg] Locating Julia ^1.6.1\n",
      "[juliapkg] Using Julia 1.8.5 at /home/frankwswang/.julia/juliaup/julia-1.8.5+0.x64.linux.gnu/bin/julia\n",
      "[juliapkg] Using Julia project at /home/frankwswang/anaconda3/julia_env\n",
      "[juliapkg] Installing packages:\n",
      "           julia> import Pkg\n",
      "           julia> Pkg.add([Pkg.PackageSpec(name=\"Quiqbox\", uuid=\"7cb8c394-fae1-4ab9-92f2-30189d7746cd\"), Pkg.PackageSpec(name=\"Optim\", uuid=\"429524aa-4258-5aef-a3af-852621145aeb\"), Pkg.PackageSpec(name=\"HDF5\", uuid=\"f67ccb44-e63f-5c2f-98bd-6dc0ccc4ba2f\"), Pkg.PackageSpec(name=\"PythonCall\", uuid=\"6099a3de-0909-46bc-b1f4-468b9a2dfc0d\")])\n",
      "           julia> Pkg.resolve()\n"
     ]
    },
    {
     "name": "stderr",
     "output_type": "stream",
     "text": [
      "    Updating registry at `~/.julia/registries/General.toml`\n",
      "   Resolving package versions...\n",
      "    Updating `~/anaconda3/julia_env/Project.toml`\n",
      "  [f67ccb44] + HDF5 v0.16.14\n",
      "  [429524aa] + Optim v1.7.4\n",
      "  [6099a3de] + PythonCall v0.9.11\n",
      "  [7cb8c394] + Quiqbox v0.5.4\n",
      "    Updating `~/anaconda3/julia_env/Manifest.toml`\n",
      "  [621f4979] + AbstractFFTs v1.2.1\n",
      "  [79e6a3ab] + Adapt v3.6.1\n",
      "  [4fba245c] + ArrayInterface v7.1.0\n",
      "⌅ [ab4f0b2a] + BFloat16s v0.2.0\n",
      "  [fa961155] + CEnum v0.4.2\n",
      "⌅ [052768ef] + CUDA v3.13.1\n",
      "  [d360d2e6] + ChainRulesCore v1.15.7\n",
      "  [9e997f8a] + ChangesOfVariables v0.1.6\n",
      "  [861a8166] + Combinatorics v1.0.2\n",
      "  [bbf7d656] + CommonSubexpressions v0.3.0\n",
      "  [34da2185] + Compat v4.6.0\n",
      "  [992eb4ea] + CondaPkg v0.2.17\n",
      "  [187b0558] + ConstructionBase v1.5.1\n",
      "  [9a962f9c] + DataAPI v1.14.0\n",
      "  [864edb3b] + DataStructures v0.18.13\n",
      "  [e2d170a0] + DataValueInterfaces v1.0.0\n",
      "  [163ba53b] + DiffResults v1.1.0\n",
      "  [b552c78f] + DiffRules v1.13.0\n",
      "  [ffbed154] + DocStringExtensions v0.9.3\n",
      "  [497a8b3b] + DoubleFloats v1.2.3\n",
      "  [e2ba6199] + ExprTools v0.1.8\n",
      "  [442a2c76] + FastGaussQuadrature v0.5.0\n",
      "  [1a297f60] + FillArrays v0.13.7\n",
      "  [6a86dc24] + FiniteDiff v2.18.0\n",
      "  [f6369f11] + ForwardDiff v0.10.35\n",
      "  [0c68f7d7] + GPUArrays v8.6.3\n",
      "  [46192b85] + GPUArraysCore v0.1.4\n",
      "  [61eb1bfa] + GPUCompiler v0.17.2\n",
      "  [14197337] + GenericLinearAlgebra v0.3.6\n",
      "  [f67ccb44] + HDF5 v0.16.14\n",
      "  [3587e190] + InverseFunctions v0.1.8\n",
      "  [92d709cd] + IrrationalConstants v0.2.2\n",
      "  [82899510] + IteratorInterfaceExtensions v1.0.0\n",
      "  [692b3bcd] + JLLWrappers v1.4.1\n",
      "  [0f8b85d8] + JSON3 v1.12.0\n",
      "  [5be7bae1] + LBFGSB v0.4.1\n",
      "  [929cbde3] + LLVM v4.16.0\n",
      "  [8ac3fa9e] + LRUCache v1.4.0\n",
      "  [d3d80556] + LineSearches v7.2.0\n",
      "  [2ab3a3ac] + LogExpFunctions v0.3.23\n",
      "  [1914dd2f] + MacroTools v0.5.10\n",
      "  [20f20a25] + MakieCore v0.6.2\n",
      "  [0b3b1443] + MicroMamba v0.1.12\n",
      "  [e1d29d7a] + Missings v1.1.0\n",
      "  [d41bc354] + NLSolversBase v7.8.3\n",
      "  [77ba4419] + NaNMath v1.0.2\n",
      "  [510215fc] + Observables v0.5.4\n",
      "  [429524aa] + Optim v1.7.4\n",
      "  [bac558e1] + OrderedCollections v1.4.1\n",
      "  [d96e819e] + Parameters v0.12.3\n",
      "  [69de0a69] + Parsers v2.5.7\n",
      "  [fa939f87] + Pidfile v1.3.0\n",
      "  [f27b6e38] + Polynomials v3.2.5\n",
      "  [85a6dd25] + PositiveFactorizations v0.2.4\n",
      "  [21216c6a] + Preferences v1.3.0\n",
      "  [6099a3de] + PythonCall v0.9.11\n",
      "  [be4d8f0f] + Quadmath v0.5.7\n",
      "  [7cb8c394] + Quiqbox v0.5.4\n",
      "  [74087812] + Random123 v1.6.0\n",
      "  [e6cf234a] + RandomNumbers v1.5.3\n",
      "  [3cdcf5f2] + RecipesBase v1.3.3\n",
      "  [189a3867] + Reexport v1.2.2\n",
      "  [ae029012] + Requires v1.3.0\n",
      "  [bf97046b] + SPGBox v0.5.6\n",
      "  [6c6a2e73] + Scratch v1.1.1\n",
      "  [efcf1570] + Setfield v1.1.1\n",
      "  [66db9d55] + SnoopPrecompile v1.0.3\n",
      "  [a2af1166] + SortingAlgorithms v1.1.0\n",
      "  [276daf66] + SpecialFunctions v2.2.0\n",
      "  [90137ffa] + StaticArrays v1.5.16\n",
      "  [1e83bf80] + StaticArraysCore v1.4.0\n",
      "  [82ae8749] + StatsAPI v1.5.0\n",
      "  [2913bbd2] + StatsBase v0.33.21\n",
      "  [5e0ebb24] + Strided v1.2.3\n",
      "  [856f2bd8] + StructTypes v1.10.0\n",
      "  [3783bdb8] + TableTraits v1.0.1\n",
      "  [bd369af6] + Tables v1.10.0\n",
      "  [6aa20fa7] + TensorOperations v3.2.4\n",
      "  [a759f4b9] + TimerOutputs v0.5.22\n",
      "  [9d95972d] + TupleTools v1.3.0\n",
      "  [3a884ed6] + UnPack v1.0.2\n",
      "  [e17b2a0c] + UnsafePointers v1.0.0\n",
      "  [0234f1f7] + HDF5_jll v1.12.2+2\n",
      "  [dad2f222] + LLVMExtra_jll v0.0.16+2\n",
      "  [81d17ec3] + L_BFGS_B_jll v3.0.1+0\n",
      "  [458c3c95] + OpenSSL_jll v1.1.20+0\n",
      "  [efe28fd5] + OpenSpecFun_jll v0.5.5+0\n",
      "  [f8abcde7] + micromamba_jll v1.3.1+0\n",
      "  [0dad84c5] + ArgTools v1.1.1\n",
      "  [56f22d72] + Artifacts\n",
      "  [2a0f44e3] + Base64\n",
      "  [ade2ca70] + Dates\n",
      "  [8ba89e20] + Distributed\n",
      "  [f43a241f] + Downloads v1.6.0\n",
      "  [7b1f6079] + FileWatching\n",
      "  [9fa8497b] + Future\n",
      "  [b77e0a4c] + InteractiveUtils\n",
      "  [4af54fe1] + LazyArtifacts\n",
      "  [b27032c2] + LibCURL v0.6.3\n",
      "  [76f85450] + LibGit2\n",
      "  [8f399da3] + Libdl\n",
      "  [37e2e46d] + LinearAlgebra\n",
      "  [56ddb016] + Logging\n",
      "  [d6f4376e] + Markdown\n",
      "  [a63ad114] + Mmap\n",
      "  [ca575930] + NetworkOptions v1.2.0\n",
      "  [44cfe95a] + Pkg v1.8.0\n",
      "  [de0858da] + Printf\n",
      "  [3fa0cd96] + REPL\n",
      "  [9a3f8284] + Random\n",
      "  [ea8e919c] + SHA v0.7.0\n",
      "  [9e88b42a] + Serialization\n",
      "  [6462fe0b] + Sockets\n",
      "  [2f01184e] + SparseArrays\n",
      "  [10745b16] + Statistics\n",
      "  [4607b0f0] + SuiteSparse\n",
      "  [fa267f1f] + TOML v1.0.0\n",
      "  [a4e569a6] + Tar v1.10.1\n",
      "  [8dfed614] + Test\n",
      "  [cf7118a7] + UUIDs\n",
      "  [4ec0a83e] + Unicode\n",
      "  [e66e0078] + CompilerSupportLibraries_jll v1.0.1+0\n",
      "  [deac9b47] + LibCURL_jll v7.84.0+0\n",
      "  [29816b5a] + LibSSH2_jll v1.10.2+0\n",
      "  [c8ffd9c3] + MbedTLS_jll v2.28.0+0\n",
      "  [14a3606d] + MozillaCACerts_jll v2022.2.1\n",
      "  [4536629a] + OpenBLAS_jll v0.3.20+0\n",
      "  [05823500] + OpenLibm_jll v0.8.1+0\n",
      "  [83775a58] + Zlib_jll v1.2.12+3\n",
      "  [8e850b90] + libblastrampoline_jll v5.1.1+0\n",
      "  [8e850ede] + nghttp2_jll v1.48.0+0\n",
      "  [3f19e933] + p7zip_jll v17.4.0+0\n",
      "        Info Packages marked with ⌅ have new versions available but compatibility constraints restrict them from upgrading. To see why use `status --outdated -m`\n",
      "  No Changes to `~/anaconda3/julia_env/Project.toml`\n",
      "  No Changes to `~/anaconda3/julia_env/Manifest.toml`\n"
     ]
    }
   ],
   "source": [
    "## Load `juliacall` and install relevant julia packages.\n",
    "import juliacall;\n",
    "from juliacall import Main as jl;\n",
    "jl.seval(\"using PythonCall\");\n",
    "jl.seval(\"using HDF5\");"
   ]
  },
  {
   "cell_type": "code",
   "execution_count": 4,
   "id": "47d3ffb2-3ba0-4ac6-af9f-2ac1c3f6688a",
   "metadata": {},
   "outputs": [],
   "source": [
    "## Include other required scripts and notebooks.\n",
    "jl.include(\"./BSopt.jl\");\n",
    "%run genBeH2geometry.ipynb"
   ]
  },
  {
   "cell_type": "code",
   "execution_count": 11,
   "id": "763a2c9f-4ca6-42e8-b3ad-05128fb4e275",
   "metadata": {
    "scrolled": true,
    "tags": []
   },
   "outputs": [],
   "source": [
    "## Function that optimizes a given basis set (in `bsName` as a `str`) and returns all the information of the updated basis set.\n",
    "def genBasisSetParms(bsName):\n",
    "    bsNew = jl.optAObs(lenHH, cy, bsName)\n",
    "    bfsNabsorbN = jl.seval(\"x -> absorbNormFactor.(x)|>flatten|>flatten\")(bsNew)\n",
    "    gaussCoeffs = jl.seval(\"x -> x .|> gaussCoeffOf\")(bfsNabsorbN)\n",
    "    sym = jl.seval(\"(b, nuc) -> reduce(vcat, fill(n, orbitalNumOf.(genBasisFunc(zeros(3), b, n))|>sum) for n in PyList{String}(nuc))\")(bsName, BeHHsymbols)\n",
    "    cen = jl.seval(\"x -> x .|> centerCoordOf\")(bfsNabsorbN)\n",
    "    exp = jl.seval(\"x -> [i[:, 1] for i in x]\")(gaussCoeffs)\n",
    "    con = jl.seval(\"x -> [i[:, 2] for i in x]\")(gaussCoeffs)\n",
    "    ang = jl.seval(\"x -> [[bf.l[begin]...] for bf in x]\")(bfsNabsorbN)\n",
    "    return sym, cen, exp, con, ang"
   ]
  },
  {
   "cell_type": "code",
   "execution_count": 12,
   "id": "42839203-d26d-42f6-9206-b8db5b3dc939",
   "metadata": {},
   "outputs": [],
   "source": [
    "## Function that saves all the information of the optimized bais set into an HDF5 file.\n",
    "def genBasisSetData(bsName, sym, cen, exp, con, ang):\n",
    "    fid = jl.h5open(f\"{bsName}_opt.h5G\", \"w\")\n",
    "    for i in range(len(sym)):\n",
    "        g = jl.create_group(fid, f\"{i}\")\n",
    "        g[\"sym\"] = sym[i]\n",
    "        g[\"cen\"] = cen[i]\n",
    "        g[\"exp\"] = exp[i]\n",
    "        g[\"con\"] = con[i]\n",
    "        g[\"ang\"] = ang[i]\n",
    "    jl.close(fid)"
   ]
  },
  {
   "cell_type": "code",
   "execution_count": 13,
   "id": "de6fa469-f1e7-49b0-bdc8-fcbce36cdba1",
   "metadata": {},
   "outputs": [],
   "source": [
    "## Define the basis set to be optimized.\n",
    "bsName = \"STO-3G\""
   ]
  },
  {
   "cell_type": "code",
   "execution_count": 14,
   "id": "e7cab29c-8ba3-4124-8271-1219c781283d",
   "metadata": {},
   "outputs": [],
   "source": [
    "## Generate optimized basis set data.\n",
    "res = genBasisSetParms(bsName)\n",
    "genBasisSetData(bsName, *res)"
   ]
  }
 ],
 "metadata": {
  "kernelspec": {
   "display_name": "Python 3 (ipykernel)",
   "language": "python",
   "name": "python3"
  },
  "language_info": {
   "codemirror_mode": {
    "name": "ipython",
    "version": 3
   },
   "file_extension": ".py",
   "mimetype": "text/x-python",
   "name": "python",
   "nbconvert_exporter": "python",
   "pygments_lexer": "ipython3",
   "version": "3.9.13"
  }
 },
 "nbformat": 4,
 "nbformat_minor": 5
}
