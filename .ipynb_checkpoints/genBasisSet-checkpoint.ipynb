{
 "cells": [
  {
   "cell_type": "code",
   "execution_count": null,
   "id": "1e6ffca3-0108-441c-a01b-d9c2aaf3dcef",
   "metadata": {},
   "outputs": [],
   "source": [
    "## Install `juliacall` to use julia packages.\n",
    "import sys\n",
    "!{sys.executable} -m pip install juliacall"
   ]
  },
  {
   "cell_type": "code",
   "execution_count": null,
   "id": "7de63e17-f671-4a62-9023-7e544c4e3d82",
   "metadata": {},
   "outputs": [],
   "source": [
    "## Install necessary julia packages.\n",
    "import juliapkg;\n",
    "juliapkg.add(\"Quiqbox\", \"7cb8c394-fae1-4ab9-92f2-30189d7746cd\");\n",
    "juliapkg.add(\"Optim\", \"429524aa-4258-5aef-a3af-852621145aeb\");\n",
    "juliapkg.add(\"HDF5\", \"f67ccb44-e63f-5c2f-98bd-6dc0ccc4ba2f\");"
   ]
  },
  {
   "cell_type": "code",
   "execution_count": null,
   "id": "09dbc5c7-3b02-4490-88a4-d00616d9ba05",
   "metadata": {},
   "outputs": [],
   "source": [
    "## Load `juliacall` and install relevant julia packages.\n",
    "import juliacall;\n",
    "from juliacall import Main as jl;\n",
    "jl.seval(\"using PythonCall\");\n",
    "jl.seval(\"using HDF5\");"
   ]
  },
  {
   "cell_type": "code",
   "execution_count": null,
   "id": "47d3ffb2-3ba0-4ac6-af9f-2ac1c3f6688a",
   "metadata": {},
   "outputs": [],
   "source": [
    "## Include other required scripts and notebooks.\n",
    "jl.include(\"./src/BSopt.jl\");\n",
    "%run genBeH2geometry.ipynb"
   ]
  },
  {
   "cell_type": "code",
   "execution_count": null,
   "id": "763a2c9f-4ca6-42e8-b3ad-05128fb4e275",
   "metadata": {
    "scrolled": true,
    "tags": []
   },
   "outputs": [],
   "source": [
    "## Function that optimizes a given basis set (in `bsName` as a `str`) and returns all the information of the updated basis set.\n",
    "def genBasisSetParms(bsName):\n",
    "    bsNew = jl.optAObs(lenHH, cy, bsName)\n",
    "    bfsNabsorbN = jl.seval(\"x -> absorbNormFactor.(x)|>flatten|>flatten\")(bsNew)\n",
    "    gaussCoeffs = jl.seval(\"x -> x .|> gaussCoeffOf\")(bfsNabsorbN)\n",
    "    sym = jl.seval(\"(b, nuc) -> reduce(vcat, fill(n, orbitalNumOf.(genBasisFunc(zeros(3), b, n))|>sum) for n in PyList{String}(nuc))\")(bsName, BeHHsymbols)\n",
    "    cen = jl.seval(\"x -> x .|> centerCoordOf\")(bfsNabsorbN)\n",
    "    exp = jl.seval(\"x -> [i[:, 1] for i in x]\")(gaussCoeffs)\n",
    "    con = jl.seval(\"x -> [i[:, 2] for i in x]\")(gaussCoeffs)\n",
    "    ang = jl.seval(\"x -> [[bf.l[begin]...] for bf in x]\")(bfsNabsorbN)\n",
    "    return sym, cen, exp, con, ang"
   ]
  },
  {
   "cell_type": "code",
   "execution_count": null,
   "id": "42839203-d26d-42f6-9206-b8db5b3dc939",
   "metadata": {},
   "outputs": [],
   "source": [
    "## Function that saves all the information of the optimized bais set into an HDF5 file.\n",
    "def genBasisSetData(bsName, sym, cen, exp, con, ang):\n",
    "    fid = jl.h5open(f\"./lib/{bsName}_opt.h5G\", \"w\")\n",
    "    for i in range(len(sym)):\n",
    "        g = jl.create_group(fid, f\"{i}\")\n",
    "        g[\"sym\"] = sym[i]\n",
    "        g[\"cen\"] = cen[i]\n",
    "        g[\"exp\"] = exp[i]\n",
    "        g[\"con\"] = con[i]\n",
    "        g[\"ang\"] = ang[i]\n",
    "    jl.close(fid)"
   ]
  },
  {
   "cell_type": "code",
   "execution_count": null,
   "id": "de6fa469-f1e7-49b0-bdc8-fcbce36cdba1",
   "metadata": {},
   "outputs": [],
   "source": [
    "## Define the basis set to be optimized.\n",
    "bsName = \"STO-3G\""
   ]
  },
  {
   "cell_type": "code",
   "execution_count": null,
   "id": "e7cab29c-8ba3-4124-8271-1219c781283d",
   "metadata": {},
   "outputs": [],
   "source": [
    "## Generate optimized basis set data.\n",
    "res = genBasisSetParms(bsName)\n",
    "genBasisSetData(bsName, *res)"
   ]
  }
 ],
 "metadata": {
  "kernelspec": {
   "display_name": "Python 3 (ipykernel)",
   "language": "python",
   "name": "python3"
  },
  "language_info": {
   "codemirror_mode": {
    "name": "ipython",
    "version": 3
   },
   "file_extension": ".py",
   "mimetype": "text/x-python",
   "name": "python",
   "nbconvert_exporter": "python",
   "pygments_lexer": "ipython3",
   "version": "3.9.13"
  },
  "vscode": {
   "interpreter": {
    "hash": "916dbcbb3f70747c44a77c7bcd40155683ae19c65e1c03b4aa3499c5328201f1"
   }
  }
 },
 "nbformat": 4,
 "nbformat_minor": 5
}
