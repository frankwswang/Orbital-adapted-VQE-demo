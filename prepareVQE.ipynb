{
 "cells": [
  {
   "cell_type": "code",
   "execution_count": 2,
   "id": "54121f39-d283-424f-a4a4-b47b27e2de11",
   "metadata": {},
   "outputs": [],
   "source": [
    "import pennylane as qml\n",
    "from pennylane import numpy as np\n",
    "import time"
   ]
  },
  {
   "cell_type": "code",
   "execution_count": 3,
   "id": "863a1c47-a14b-4f58-b2e5-a724b1ac0433",
   "metadata": {},
   "outputs": [],
   "source": [
    "## Include other required notebooks.\n",
    "%run genBeH2geometry.ipynb\n",
    "%run readBasis.ipynb"
   ]
  },
  {
   "cell_type": "code",
   "execution_count": 4,
   "id": "0bd11e38-fb3b-4fe5-99db-79b4c197b84c",
   "metadata": {},
   "outputs": [],
   "source": [
    "## Function for generating the eletronic Hamiltonian and relevant information.\n",
    "def genBeH2(genBasisFunc, name=\"BeH2\", \n",
    "            active_electrons=None, active_orbitals=None, grouping_type=\"qwc\"):\n",
    "    bsInfo = genBasisFunc()\n",
    "    BeH2 = qml.qchem.Molecule(BeHHsymbols, BeHHcoords, charge=BeHHcharge, basis_name =bsInfo[0])\n",
    "    n_electrons = BeH2.n_electrons\n",
    "    for i,alpha in enumerate(bsInfo[1]):\n",
    "        BeH2.alpha[i] = alpha\n",
    "    for i,coeff in enumerate(bsInfo[2]):\n",
    "        BeH2.coeff[i] = coeff\n",
    "    h_elec, n_qubits = qml.qchem.molecular_hamiltonian(BeH2.symbols, BeH2.coordinates, \n",
    "        charge=BeH2.charge, basis=BeH2.basis_name, alpha=BeH2.alpha, coeff=BeH2.coeff, \n",
    "        name=name, active_electrons=active_electrons, active_orbitals=active_orbitals, \n",
    "        grouping_type=grouping_type\n",
    "    )\n",
    "    return h_elec, (n_qubits, n_electrons)"
   ]
  },
  {
   "cell_type": "code",
   "execution_count": 7,
   "id": "0fc7d03e-651f-4998-b401-bde1da47c93e",
   "metadata": {},
   "outputs": [],
   "source": [
    "def constructAdaptVQE(dev, diff_method, adapt_circuit_1, adapt_circuit_2, doubles, singles, \n",
    "                      stepsize=0.1, gThreshold=1.0e-5):\n",
    "    # Only diff_method = 'backprop' seems to work with qubit tapering.\n",
    "\n",
    "    # Dropping double excitation gates that have gradient close to zero.\n",
    "    cost_fn_doubles = qml.QNode(adapt_circuit_1, dev, diff_method=diff_method)\n",
    "    circuit_gradient_doubles = qml.grad(cost_fn_doubles, argnum=0)\n",
    "\n",
    "    len_doubles = len(doubles)\n",
    "    params_doubles = [0.0]*len_doubles\n",
    "    grads_doubles = circuit_gradient_doubles(params_doubles, excitations=doubles)\n",
    "\n",
    "    # Selects double excitation gates with gradient larger than gThreshold.\n",
    "    doubles_select = [doubles[i] for i in range(len_doubles) if abs(grads_doubles[i]) > gThreshold]\n",
    "    len_doubles_select = len(doubles_select)\n",
    "\n",
    "    print('Original Number of double excitation gates:', len_doubles)\n",
    "    print('Number of double excitation gates after filtering:', len_doubles_select)\n",
    "    \n",
    "    # Optimizing parameters of double excitation gates.\n",
    "    # Could set convergence criteria if intended.\n",
    "    opt = qml.GradientDescentOptimizer(stepsize=stepsize)\n",
    "    params_doubles = np.zeros(len_doubles_select, requires_grad=True)\n",
    "    for n in range(30):\n",
    "        params_doubles = opt.step(cost_fn_doubles, params_doubles, excitations=doubles_select)\n",
    "    \n",
    "    # Dropping single excitation gates with gradient close to zero.\n",
    "    cost_fn_singles = qml.QNode(adapt_circuit_2, dev, diff_method=diff_method)\n",
    "    circuit_gradient_singles = qml.grad(cost_fn_singles, argnum=0)\n",
    "    \n",
    "    len_singles = len(singles)\n",
    "    params_singles = [0.0]*len_singles\n",
    "    grads_singles = circuit_gradient_singles(params_singles, \n",
    "        excitations=singles, gates_select=doubles_select, params_select=params_doubles\n",
    "    )\n",
    "    \n",
    "    # Selects single excitation gates with gradient larger than gThreshold.\n",
    "    singles_select = [singles[i] for i in range(len_singles) if abs(grads_singles[i]) > gThreshold]\n",
    "\n",
    "    print('Original Number of single excitation gates:', len_singles)\n",
    "    print('Number of single excitation gates after filtering:', len(singles_select))\n",
    "    \n",
    "    # Final optimization of circuit using only selected single and double excitation gates.\n",
    "    cost_fn_final = qml.QNode(adapt_circuit_1, dev)\n",
    "    params_final = np.zeros(len(doubles_select + singles_select), requires_grad=True)\n",
    "    gates_select = doubles_select + singles_select\n",
    "    \n",
    "    return cost_fn_final, params_final, gates_select"
   ]
  },
  {
   "cell_type": "code",
   "execution_count": 8,
   "id": "e3f92e44-285c-45d3-9766-8df530580bc1",
   "metadata": {},
   "outputs": [],
   "source": [
    "## Function used to run final optimization.\n",
    "## Excitations should be list of excitation functions used in final circuit.\n",
    "def run_adapt_vqe(cost_fn, params, opt, iterations, excitations):\n",
    "    energies = []\n",
    "    total_run_time = []\n",
    "    ti = time.time()\n",
    "    for i in range(iterations):\n",
    "        t1 = time.time()\n",
    "        params, energy = opt.step_and_cost(cost_fn, params, excitations=excitations)\n",
    "        t2 = time.time()\n",
    "        energies.append(energy)\n",
    "        total_run_time.append(t2-ti)\n",
    "        if (i+1) % 5 == 0:\n",
    "            print(f\"Completed iteration {i + 1}\")\n",
    "            print(f\"Energy: {energy} Ha\")\n",
    "            print(\"Step Time:\", t2-t1)\n",
    "            print(\"----------------\")\n",
    "    print(f\"Optimized energy: {energy} Ha\")\n",
    "    \n",
    "    return energies, total_run_time"
   ]
  },
  {
   "cell_type": "code",
   "execution_count": null,
   "id": "7048100a-9863-4ae8-ae01-b00c82b1afde",
   "metadata": {},
   "outputs": [],
   "source": []
  }
 ],
 "metadata": {
  "kernelspec": {
   "display_name": "Python 3 (ipykernel)",
   "language": "python",
   "name": "python3"
  },
  "language_info": {
   "codemirror_mode": {
    "name": "ipython",
    "version": 3
   },
   "file_extension": ".py",
   "mimetype": "text/x-python",
   "name": "python",
   "nbconvert_exporter": "python",
   "pygments_lexer": "ipython3",
   "version": "3.9.13"
  }
 },
 "nbformat": 4,
 "nbformat_minor": 5
}
