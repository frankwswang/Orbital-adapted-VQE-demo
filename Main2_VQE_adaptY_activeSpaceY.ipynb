{
 "cells": [
  {
   "cell_type": "code",
   "execution_count": 1,
   "id": "e27419db-47c2-408e-8f87-dccf70dea62e",
   "metadata": {},
   "outputs": [],
   "source": [
    "import pennylane as qml"
   ]
  },
  {
   "cell_type": "code",
   "execution_count": 2,
   "id": "53e0376e-b014-4453-8a04-ea503f6425cc",
   "metadata": {},
   "outputs": [],
   "source": [
    "## Include other required notebooks.\n",
    "%run prepareVQE.ipynb"
   ]
  },
  {
   "cell_type": "code",
   "execution_count": 3,
   "id": "a996aa63-2c32-40c0-9306-4db39e88962f",
   "metadata": {},
   "outputs": [],
   "source": [
    "## Define the net charge of BeH2.\n",
    "BeHHcharge = 0"
   ]
  },
  {
   "cell_type": "code",
   "execution_count": 4,
   "id": "76c446f9-d672-4096-ba0f-656926a3b72d",
   "metadata": {
    "tags": []
   },
   "outputs": [],
   "source": [
    "# Restrict active space\n",
    "active_electrons = 4\n",
    "active_orbitals = 6\n",
    "\n",
    "h_active, (n_qubits_active, n_electrons) = genBeH2(genSTO3Gopt, name=\"BeH2_quiqbox\", \n",
    "    active_electrons=active_electrons, active_orbitals=active_orbitals, grouping_type=\"qwc\"\n",
    ")\n",
    "h_active_sparse = qml.utils.sparse_hamiltonian(h_active)"
   ]
  },
  {
   "cell_type": "code",
   "execution_count": 5,
   "id": "c0dc401f-c1a1-4ebe-aa76-a3d9737e6452",
   "metadata": {
    "tags": []
   },
   "outputs": [
    {
     "name": "stdout",
     "output_type": "stream",
     "text": [
      "\n",
      "<Info of Adapt-VQE with selected active space>\n",
      "Number of qubits needed for the selected active space: 12\n",
      "Number of Pauli strings (with grouping): 99\n"
     ]
    }
   ],
   "source": [
    "print(\"\\n<Info of Adapt-VQE with selected active space>\")\n",
    "print(\"Number of qubits needed for the selected active space:\", n_qubits_active)\n",
    "print('Number of Pauli strings (with grouping):', len(h_active.grouping_indices))"
   ]
  },
  {
   "cell_type": "code",
   "execution_count": 6,
   "id": "829d32b4-90ab-424d-bc3e-81f6288fa8e3",
   "metadata": {
    "tags": []
   },
   "outputs": [],
   "source": [
    "hf_state_active = qml.qchem.hf_state(active_electrons,n_qubits_active)\n",
    "singles_active, doubles_active = qml.qchem.excitations(active_electrons,n_qubits_active)"
   ]
  },
  {
   "cell_type": "code",
   "execution_count": 7,
   "id": "49341d44-57d3-436d-a126-0b1ec611d268",
   "metadata": {
    "tags": []
   },
   "outputs": [],
   "source": [
    "def adapt_circuit_1_active(params, excitations):\n",
    "    qml.BasisState(hf_state_active, wires=range(n_qubits_active))\n",
    "\n",
    "    for i, excitation in enumerate(excitations):\n",
    "        if len(excitation) == 4:\n",
    "            qml.DoubleExcitation(params[i], wires=excitation)\n",
    "        else:\n",
    "            qml.SingleExcitation(params[i], wires=excitation)\n",
    "    return qml.expval(qml.SparseHamiltonian(h_active_sparse, wires=h_active.wires))"
   ]
  },
  {
   "cell_type": "code",
   "execution_count": 8,
   "id": "1f057fc3-2691-4cb0-8ad9-a26814d61fc4",
   "metadata": {
    "tags": []
   },
   "outputs": [],
   "source": [
    "# circuit used for fixing parameters of double excition gates\n",
    "# and optimizing parameters of single excitation gates\n",
    "def adapt_circuit_2_active(params, excitations, gates_select, params_select):\n",
    "    qml.BasisState(hf_state_active, wires=range(n_qubits_active))\n",
    "\n",
    "    for i, gate in enumerate(gates_select):\n",
    "        if len(gate) == 4:\n",
    "            qml.DoubleExcitation(params_select[i], wires=gate)\n",
    "        elif len(gate) == 2:\n",
    "            qml.SingleExcitation(params_select[i], wires=gate)\n",
    "\n",
    "    for i, gate in enumerate(excitations):\n",
    "        if len(gate) == 4:\n",
    "            qml.DoubleExcitation(params[i], wires=gate)\n",
    "        elif len(gate) == 2:\n",
    "            qml.SingleExcitation(params[i], wires=gate)\n",
    "    return qml.expval(qml.SparseHamiltonian(h_active_sparse, wires=h_active.wires))"
   ]
  },
  {
   "cell_type": "code",
   "execution_count": 9,
   "id": "dd1cd6ab-460e-4d52-975a-1e702d13ff23",
   "metadata": {},
   "outputs": [
    {
     "name": "stdout",
     "output_type": "stream",
     "text": [
      "Original Number of double excitation gates: 76\n",
      "Number of double excitation gates after filtering: 14\n",
      "Original Number of single excitation gates: 16\n",
      "Number of single excitation gates after filtering: 4\n"
     ]
    }
   ],
   "source": [
    "## Construct Adapt-VQE.\n",
    "dev = qml.device(\"lightning.qubit\", wires=h_active.wires)\n",
    "diff_method = 'adjoint'\n",
    "cost_fn_final_active, params_final_active, gates_select_active = constructAdaptVQE(dev, \n",
    "    diff_method, adapt_circuit_1_active, adapt_circuit_2_active, doubles_active, singles_active\n",
    ")"
   ]
  },
  {
   "cell_type": "code",
   "execution_count": 10,
   "id": "6668cbaf-545f-4349-9e6c-40f243f8d586",
   "metadata": {
    "scrolled": true,
    "tags": []
   },
   "outputs": [
    {
     "name": "stdout",
     "output_type": "stream",
     "text": [
      "Completed iteration 5\n",
      "Energy: -15.6196737456201 Ha\n",
      "Step Time: 0.32550549507141113 s\n",
      "----------------\n",
      "Completed iteration 10\n",
      "Energy: -15.618103964976491 Ha\n",
      "Step Time: 0.32205915451049805 s\n",
      "----------------\n",
      "Completed iteration 15\n",
      "Energy: -15.619762006045065 Ha\n",
      "Step Time: 0.3365011215209961 s\n",
      "----------------\n",
      "Completed iteration 20\n",
      "Energy: -15.620608316086818 Ha\n",
      "Step Time: 0.779543399810791 s\n",
      "----------------\n",
      "Completed iteration 25\n",
      "Energy: -15.620744541197467 Ha\n",
      "Step Time: 0.3598930835723877 s\n",
      "----------------\n",
      "Completed iteration 30\n",
      "Energy: -15.62096108324566 Ha\n",
      "Step Time: 0.40140533447265625 s\n",
      "----------------\n",
      "Completed iteration 35\n",
      "Energy: -15.621155101334304 Ha\n",
      "Step Time: 0.36940717697143555 s\n",
      "----------------\n",
      "Completed iteration 40\n",
      "Energy: -15.621158139432707 Ha\n",
      "Step Time: 0.3594322204589844 s\n",
      "----------------\n",
      "Completed iteration 45\n",
      "Energy: -15.621242353563188 Ha\n",
      "Step Time: 0.33476758003234863 s\n",
      "----------------\n",
      "Completed iteration 50\n",
      "Energy: -15.621261409460399 Ha\n",
      "Step Time: 0.35656046867370605 s\n",
      "----------------\n",
      "Optimized energy: -15.621261409460399 Ha\n"
     ]
    }
   ],
   "source": [
    "## Run the constructed VQE.\n",
    "## For excitations we'll use our singles and doubles selected gates, i.e., `gates_select`.\n",
    "maxStep = 50\n",
    "adamStep = 0.02\n",
    "opt_adam = qml.AdamOptimizer(stepsize=adamStep, beta1=0.9, beta2=0.99, eps=1e-08)\n",
    "adapt_energies_active, adapt_runtime_active = run_adapt_vqe(\n",
    "    cost_fn_final_active, params_final_active, opt_adam, maxStep, excitations=gates_select_active\n",
    ")"
   ]
  }
 ],
 "metadata": {
  "kernelspec": {
   "display_name": "Python 3 (ipykernel)",
   "language": "python",
   "name": "python3"
  },
  "language_info": {
   "codemirror_mode": {
    "name": "ipython",
    "version": 3
   },
   "file_extension": ".py",
   "mimetype": "text/x-python",
   "name": "python",
   "nbconvert_exporter": "python",
   "pygments_lexer": "ipython3",
   "version": "3.9.13"
  },
  "vscode": {
   "interpreter": {
    "hash": "916dbcbb3f70747c44a77c7bcd40155683ae19c65e1c03b4aa3499c5328201f1"
   }
  }
 },
 "nbformat": 4,
 "nbformat_minor": 5
}
